{
  "cells": [
    {
      "cell_type": "markdown",
      "id": "cd91769c",
      "metadata": {
        "id": "cd91769c"
      },
      "source": [
        "\n",
        "# MCON 141 — Class 3 Homework\n",
        "\n",
        "Welcome! 🌟 This homework is designed to help you feel confident with **decision structures** and **boolean logic**.  \n",
        "You’ll use `if / elif / else`, nested `if` where helpful, and the operators `and`, `or`, and `not`.  \n",
        "We’re **not** using loops yet (`while`, `for`) — everything here can be done with straight‑line code.\n",
        "\n",
        "Additionally, although I am giving you this homework within Jupyter, feel free to work on this in an IDE such as IDLE or PyCharm, and submit the answers here.\n",
        "\n",
        "### How to approach this set\n",
        "- Work one problem at a time. Run your cell, read the output, and refine.\n",
        "- Be kind to yourself — it’s normal to try, run, and adjust as you go.\n",
        "- When taking user input, please **validate it** with `try/except` and use `raise ValueError` for out‑of‑range or invalid options.\n",
        "- Use f‑strings for friendly, clear messages (e.g., `print(f\"Final price: ${price:.2f}\")`).\n",
        "\n",
        "If you get stuck, read the **gentle hints** included after many prompts. You’ve got this! 💪\n"
      ]
    },
    {
      "cell_type": "markdown",
      "id": "6af8aabf",
      "metadata": {
        "id": "6af8aabf"
      },
      "source": [
        "\n",
        "**Validation rules (for all problems)**  \n",
        "- If a numeric input is not a number → handle with `except ValueError`.\n",
        "- If a numeric input is outside the allowed range → `raise ValueError(\"...\")` and handle it.\n",
        "- If a text input isn’t one of the allowed choices (e.g., `y/n`, or `mon..sun`) → `raise ValueError(\"expected ...\")` and handle it.\n",
        "- Normalize text inputs with `.strip().lower()`.\n"
      ]
    },
    {
      "cell_type": "markdown",
      "id": "ba273b62",
      "metadata": {
        "id": "ba273b62"
      },
      "source": [
        "\n",
        "## 1) Free shipping gate\n",
        "\n",
        "**Prompt**  \n",
        "Ask for **order_total** (float) and **membership** (`\"y\"` / `\"n\"`).  \n",
        "Free shipping rules:  \n",
        "- Free if `order_total >= 60` **or** membership is `\"y\"` **and** `order_total >= 40`.  \n",
        "- Otherwise, no free shipping.\n",
        "\n",
        "**Your task**  \n",
        "- Validate inputs (see rules above).  \n",
        "- Print exactly `\"Free shipping\"` or `\"No free shipping\"`.  \n",
        "\n",
        "*Gentle hint:* It can help to create a boolean like `is_member = (membership == \"y\")` before your `if`.\n"
      ]
    },
    {
      "cell_type": "code",
      "execution_count": 1,
      "id": "d9d440a9",
      "metadata": {
        "id": "d9d440a9",
        "outputId": "3ed90ec2-f40a-4948-9ab6-63cab0e3ddab",
        "colab": {
          "base_uri": "https://localhost:8080/"
        }
      },
      "outputs": [
        {
          "output_type": "stream",
          "name": "stdout",
          "text": [
            "what is the order total?35\n",
            "are you a member (y/n)?y\n",
            "no free shipping\n"
          ]
        }
      ],
      "source": [
        "\n",
        "# YOUR CODE HERE\n",
        "# 1) Read inputs (order_total, membership) with validation.\n",
        "# 2) Decide based on the rule; print the exact message.\n",
        "\n",
        "question = \"what is the order total?\"\n",
        "order_total = float(input(question))\n",
        "question_2 = \"are you a member (y/n)?\"\n",
        "is_member = input(question_2)\n",
        "if is_member == \"yes\" and order_total >= 40:\n",
        "  print(\"free shipping\")\n",
        "elif order_total >=60 :\n",
        "  print(\"free shipping\")\n",
        "else:\n",
        "  print(\"no free shipping\")"
      ]
    },
    {
      "cell_type": "markdown",
      "id": "2b6be3c3",
      "metadata": {
        "id": "2b6be3c3"
      },
      "source": [
        "\n",
        "## 2) Triangle validity & type\n",
        "\n",
        "**Prompt**  \n",
        "Ask for three side lengths **a**, **b**, **c** (floats).  \n",
        "- First, validate that all are **> 0**.  \n",
        "- Then check triangle inequality: `a + b > c`, `a + c > b`, `b + c > a`.  \n",
        "  - If invalid → print `\"Not a triangle\"` and stop.  \n",
        "- If valid, print **exactly one** of: `\"Equilateral\"`, `\"Isosceles\"`, `\"Scalene\"`.\n",
        "\n",
        "**Your task**  \n",
        "- Validate numeric conversion and positivity.  \n",
        "- Implement the checks carefully and choose exactly one type to print.\n",
        "\n",
        "*Gentle hint:* Check validity first; only classify if valid.\n",
        "\n",
        "**Support for triangles **\n",
        "\n",
        "A triangle is Equilateral if All three sides are equal:\n",
        "a == b == c\n",
        "\n",
        "Isosceles : Exactly two sides are equal:\n",
        "(a == b or a == c or b == c) but not all three equal\n",
        "\n",
        "Scalene : All three sides are different:\n",
        "a != b and a != c and b != c\n",
        "\n",
        "\n"
      ]
    },
    {
      "cell_type": "code",
      "execution_count": null,
      "id": "61ea08e9",
      "metadata": {
        "id": "61ea08e9",
        "outputId": "cbbae914-f730-4ab7-eca1-f71f05175456",
        "colab": {
          "base_uri": "https://localhost:8080/"
        }
      },
      "outputs": [
        {
          "output_type": "stream",
          "name": "stdout",
          "text": [
            "enter length for side a4\n",
            "enter length for side b4\n",
            "enter length for side c4\n",
            "equilateral\n"
          ]
        }
      ],
      "source": [
        "\n",
        "# YOUR CODE HERE\n",
        "# 1) Inputs a, b, c with validation\n",
        "# 2) If invalid -> print(\"Not a triangle\")\n",
        "# 3) Else -> choose exactly one triangle type\n",
        "question = \"enter length for side a\"\n",
        "a = float(input(question))\n",
        "question_2 = \"enter length for side b\"\n",
        "b = float(input(question_2))\n",
        "question_3 = \"enter length for side c\"\n",
        "c = float(input(question_3))\n",
        "if a <= 0 or b<=0 or c<=0:\n",
        "    print(\"not a triangle\")\n",
        "elif a == b == c:\n",
        "  print(\"equilateral\")\n",
        "elif a == b or b==c or c==a:\n",
        "  print(\"isoseles\")\n",
        "else :\n",
        "  print(\"scalene\")"
      ]
    },
    {
      "cell_type": "markdown",
      "id": "38d6cf49",
      "metadata": {
        "id": "38d6cf49"
      },
      "source": [
        "\n",
        "## 3) Library access hours with membership override\n",
        "\n",
        "**Prompt**  \n",
        "Ask for **hour** (int, 0–23) and **member** (`\"y\"`/`\"n\"`).  \n",
        "- Open to **everyone** from 9–20 inclusive.  \n",
        "- Open to **members only** at hours 7–8 and 21–22.  \n",
        "- Otherwise, **Closed**.\n",
        "\n",
        "**Your task**  \n",
        "- Validate inputs.  \n",
        "- Print **exactly one** of: `\"Open to all\"`, `\"Open to members\"`, `\"Closed\"`.\n",
        "\n",
        "*Gentle hint:* Think of this as a small decision tree. Check the “open to all” window first.\n"
      ]
    },
    {
      "cell_type": "code",
      "execution_count": null,
      "id": "ea753771",
      "metadata": {
        "id": "ea753771",
        "outputId": "020cbfab-b357-4a0c-fcf3-cc3617917e31",
        "colab": {
          "base_uri": "https://localhost:8080/"
        }
      },
      "outputs": [
        {
          "output_type": "stream",
          "name": "stdout",
          "text": [
            "what time is it?23\n",
            "are you a member (y/n)y\n",
            "closed\n"
          ]
        }
      ],
      "source": [
        "\n",
        "# YOUR CODE HERE\n",
        "# 1) Validate hour and member\n",
        "# 2) Decide and print one of the three messages\n",
        "question = \"what time is it?\"\n",
        "hour = int(input(question))\n",
        "question_2 = \"are you a member (y/n)\"\n",
        "member = input(question_2)\n",
        "if hour >= 9 and hour <= 20:\n",
        "  print(\"open to all\")\n",
        "elif hour >=7 and hour <=8 or hour >=21 and hour <=22:\n",
        "  print(\"open to members\")\n",
        "else:\n",
        "  print(\"closed\")\n"
      ]
    },
    {
      "cell_type": "markdown",
      "id": "bbd08bb4",
      "metadata": {
        "id": "bbd08bb4"
      },
      "source": [
        "\n",
        "## 4) Temperature banding\n",
        "\n",
        "**Prompt**  \n",
        "Ask for **temp** (int) and categorize into exactly one label:  \n",
        "- `temp <= 0` → `\"Freezing\"`  \n",
        "- `1–15` → `\"Cold\"`  \n",
        "- `16–25` → `\"Mild\"`  \n",
        "- `26–32` → `\"Warm\"`  \n",
        "- `>= 33` → `\"Hot\"`\n",
        "\n",
        "**Your task**  \n",
        "- Validate integer input.  \n",
        "- Make sure **only one** label is printed.\n",
        "\n",
        "*Gentle hint:* Use `elif` to avoid overlapping outputs.\n"
      ]
    },
    {
      "cell_type": "code",
      "execution_count": null,
      "id": "5986f534",
      "metadata": {
        "id": "5986f534",
        "outputId": "40361621-05ee-4974-fa71-0c66cbd3bef9",
        "colab": {
          "base_uri": "https://localhost:8080/"
        }
      },
      "outputs": [
        {
          "output_type": "stream",
          "name": "stdout",
          "text": [
            "what is the temparture12\n",
            "cold\n"
          ]
        }
      ],
      "source": [
        "\n",
        "# YOUR CODE HERE\n",
        "# 1) Validate temp (int)\n",
        "# 2) Choose exactly one label to print\n",
        "question = \"what is the temparture\"\n",
        "temp = int(input(question))\n",
        "if temp<=0:\n",
        "  print(\"freezing\")\n",
        "elif temp >=1 and temp<=15:\n",
        "  print(\"cold\")\n",
        "elif temp>=16 and temp <=25:\n",
        "  print(\"mild\")\n",
        "elif temp>=26 and temp <=32:\n",
        "  print(\"warm\")\n",
        "else:\n",
        "  print(\"hot\")"
      ]
    },
    {
      "cell_type": "markdown",
      "id": "904b40ac",
      "metadata": {
        "id": "904b40ac"
      },
      "source": [
        "\n",
        "## 5) Street parking rules\n",
        "\n",
        "**Prompt**  \n",
        "Ask for **day** (`\"mon\"...\"sun\"`), **hour** (0–23), and **holiday** (`\"y\"/\"n\"`).  \n",
        "- **No parking** on weekdays during rush hours: 7–10 and 16–19, **unless** it is a holiday.  \n",
        "- Parking is allowed at all other times (including weekends).\n",
        "\n",
        "**Your task**  \n",
        "- Validate inputs.  \n",
        "- Print exactly `\"Parking allowed\"` **or** `\"No parking\"`.\n",
        "\n",
        "*Gentle hint:* Consider booleans like `is_weekday = day in {...}` and `rush = (7 <= hour <= 10) or (16 <= hour <= 19)`.\n"
      ]
    },
    {
      "cell_type": "code",
      "execution_count": 13,
      "id": "ccbba117",
      "metadata": {
        "id": "ccbba117",
        "colab": {
          "base_uri": "https://localhost:8080/"
        },
        "outputId": "eeca9e7f-8933-4daa-d96a-4e16ca6c59cf"
      },
      "outputs": [
        {
          "output_type": "stream",
          "name": "stdout",
          "text": [
            "what day is it?sun\n",
            "what time is it?9\n",
            "is it a holiday (y/n)?n\n",
            "parking allowed\n"
          ]
        }
      ],
      "source": [
        "\n",
        "# YOUR CODE HERE\n",
        "# 1) Validate day/hour/holiday\n",
        "# 2) Decide and print the exact message\n",
        "question = \"what day is it?\"\n",
        "day = input(question)\n",
        "question_2 = \"what time is it?\"\n",
        "hour = int(input(question_2))\n",
        "question_3 = \"is it a holiday (y/n)?\"\n",
        "holiday = input(question_3)\n",
        "if day == \"mon\" or day == \"tue\" or day == \"wed\" or day == \"thu\" or day == \"fri\":\n",
        "  if hour >=7 and hour <=10 or hour >=16 and hour <=19 and holiday == \"n\":\n",
        "    print(\"no parking\")\n",
        "  elif holiday == \"y\":\n",
        "    print(\"parking allowed\")\n",
        "  else:\n",
        "    print(\"parking allowed\")\n",
        "else:\n",
        "  print(\"parking allowed\")\n",
        "\n"
      ]
    },
    {
      "cell_type": "markdown",
      "id": "5dc3c3fa",
      "metadata": {
        "id": "5dc3c3fa"
      },
      "source": [
        "\n",
        "## 6) Grade with curve boundaries\n",
        "\n",
        "**Prompt**  \n",
        "Ask for **raw** (float, 0–100) and **curve** (int, can be negative).  \n",
        "- Compute `final = raw + curve`.  \n",
        "- Clamp to [0, 100].  \n",
        "- Print a single letter:\n",
        "  - `>= 90`: `\"A\"`\n",
        "  - `80–89`: `\"B\"`\n",
        "  - `70–79`: `\"C\"`\n",
        "  - `60–69`: `\"D\"`\n",
        "  - else: `\"F\"`\n",
        "\n",
        "**Your task**  \n",
        "- Validate inputs; clamp carefully; print one letter.\n",
        "\n",
        "*Gentle hint:* After adding, use small checks like `if final < 0: final = 0`.\n"
      ]
    },
    {
      "cell_type": "code",
      "execution_count": 17,
      "id": "0598e54f",
      "metadata": {
        "id": "0598e54f",
        "colab": {
          "base_uri": "https://localhost:8080/"
        },
        "outputId": "a5c67122-16de-496f-9cf6-d7fe9e4234cd"
      },
      "outputs": [
        {
          "output_type": "stream",
          "name": "stdout",
          "text": [
            "what is the raw grade?78\n",
            "what is the curve?12\n",
            "A\n"
          ]
        }
      ],
      "source": [
        "\n",
        "# YOUR CODE HERE\n",
        "# 1) Validate raw/curve\n",
        "# 2) Clamp 0..100\n",
        "# 3) Print one letter\n",
        "question=\"what is the raw grade?\"\n",
        "raw = float(input(question))\n",
        "question_2 = \"what is the curve?\"\n",
        "curve = int(input(question_2))\n",
        "final = raw + curve\n",
        "if final < 0:\n",
        "  final = 0\n",
        "elif final > 100:\n",
        "  final = 100\n",
        "elif final >= 90:\n",
        "  print(\"A\")\n",
        "elif final >= 80:\n",
        "  print(\"B\")\n",
        "elif final >= 70:\n",
        "  print(\"C\")\n",
        "elif final >= 60:\n",
        "  print(\"D\")\n",
        "else:\n",
        "  print(\"F\")\n",
        "\n",
        "\n",
        "\n"
      ]
    },
    {
      "cell_type": "markdown",
      "id": "87c88705",
      "metadata": {
        "id": "87c88705"
      },
      "source": [
        "\n",
        "## 7) Palindrome (straight‑line, no loops)\n",
        "\n",
        "**Prompt**  \n",
        "Ask for **text** (string). Normalize by stripping outer spaces and lowercasing.  \n",
        "If the text reads the same forwards and backwards, print `\"Palindrome\"`; otherwise, print `\"Not palindrome\"`.\n",
        "\n",
        "**Your task**  \n",
        "- No loops needed; slicing is okay (`[::-1]`).  \n",
        "- Keep messages exact.\n",
        "\n",
        "*Gentle hint:* Compare the normalized string to its reversed version.\n",
        "\n",
        "** Support **\n",
        "A palindrome check can be done with just string basics:\n",
        "\n",
        "- .strip() → remove spaces at the edges\n",
        "\n",
        "- .lower() → normalize case\n",
        "\n",
        "- [::-1] → reverses the string\n",
        "- example of string reversal :  my_str == \"cat\" then my_str[::-1] == \"tac\"\n",
        "- my_str_reveresed = my_str[::-1]\n"
      ]
    },
    {
      "cell_type": "code",
      "execution_count": 19,
      "id": "f3a3d82a",
      "metadata": {
        "id": "f3a3d82a",
        "colab": {
          "base_uri": "https://localhost:8080/"
        },
        "outputId": "bc1e1435-7d91-4897-dae3-b6c10edc88a2"
      },
      "outputs": [
        {
          "output_type": "stream",
          "name": "stdout",
          "text": [
            "enter textracecar\n",
            "palindrome\n"
          ]
        }
      ],
      "source": [
        "\n",
        "# YOUR CODE HERE\n",
        "# 1) Read and normalize text\n",
        "# 2) Compare to reversed and print the message\n",
        "question=\"enter text\"\n",
        "text = input(question).strip().lower()\n",
        "text_reversed = text[::-1]\n",
        "if text == text_reversed:\n",
        "  print(\"palindrome\")\n",
        "else:\n",
        "  print(\"not palindrome\")"
      ]
    },
    {
      "cell_type": "markdown",
      "id": "2953a6f6",
      "metadata": {
        "id": "2953a6f6"
      },
      "source": [
        "\n",
        "## 8) Function practice — `is_palindrome(text) -> bool\n",
        "\n",
        "You’ll write a **small** helper function, then use it.  \n",
        "It’s okay if functions are new — follow the scaffold and you’ll be fine!\n",
        "\n",
        "**Steps**\n",
        "1. Implement `is_palindrome(text)` that returns `True` if `text.strip().lower()` equals its reversed version, else `False`.\n",
        "2. Then, outside the function, prompt the user and print `\"Palindrome\"` or `\"Not palindrome\"` based on the function’s result.\n",
        "\n",
        "*Gentle hint:* Start by writing the function body with a placeholder `return False`, then improve it.\n"
      ]
    },
    {
      "cell_type": "code",
      "execution_count": 26,
      "id": "b9986d4a",
      "metadata": {
        "id": "b9986d4a",
        "colab": {
          "base_uri": "https://localhost:8080/"
        },
        "outputId": "13b4f466-49b7-4c40-e7c1-5af90319f2f3"
      },
      "outputs": [
        {
          "output_type": "stream",
          "name": "stdout",
          "text": [
            "enter a textracecar\n",
            "palindrome\n"
          ]
        }
      ],
      "source": [
        "def is_palindrome(text):\n",
        "    \"\"\"Return True if text is a palindrome after strip+lower, else False.\"\"\"\n",
        "    normalized_text = text.strip().lower()\n",
        "    return normalized_text == normalized_text[::-1]\n",
        "\n",
        "# YOUR CODE HERE\n",
        "# 1) Prompt for input (single attempt due to no-loop constraint)\n",
        "# 2) Call is_palindrome and print the correct message\n",
        "text = input(\"enter a text\")\n",
        "palindrome=is_palindrome(text)\n",
        "if (palindrome):\n",
        "  print(\"palindrome\")\n",
        "else:\n",
        "  print(\"not palindrome\")"
      ]
    },
    {
      "cell_type": "markdown",
      "id": "8e72d89c",
      "metadata": {
        "id": "8e72d89c"
      },
      "source": [
        "\n",
        "## 9) Function practice — `parking_allowed(day, hour, holiday) -> bool`\n",
        "\n",
        "Let’s package the parking policy into a small function and then use it.\n",
        "\n",
        "**Policy reminder**  \n",
        "- **No parking** on weekdays during 7–10 and 16–19, **unless** it is a holiday.  \n",
        "- Parking is allowed at all other times (including weekends).\n",
        "\n",
        "**Steps**\n",
        "1. Implement `parking_allowed(day, hour, holiday)` so it returns `True` when parking is allowed, `False` otherwise.\n",
        "2. Then prompt for inputs, **validate them**, and print `\"Parking allowed\"` or `\"No parking\"`.\n",
        "\n",
        "*Gentle hint:* Booleans like `is_weekday` and `rush` make your `if` very readable.\n"
      ]
    },
    {
      "cell_type": "code",
      "execution_count": 27,
      "id": "11240051",
      "metadata": {
        "id": "11240051",
        "colab": {
          "base_uri": "https://localhost:8080/"
        },
        "outputId": "cb49c15b-2e16-40f1-f2ad-36add7af073a"
      },
      "outputs": [
        {
          "output_type": "stream",
          "name": "stdout",
          "text": [
            "what day is it?mon\n",
            "what time is it?11\n",
            "is it a holiday?n\n",
            "parking allowed\n"
          ]
        }
      ],
      "source": [
        "\n",
        "def parking_allowed(day, hour, holiday):\n",
        "    \"\"\"Return True if parking is allowed under the policy; else False.\n",
        "    day: 'mon'..'sun', hour: 0..23, holiday: 'y' or 'n'\n",
        "    \"\"\"\n",
        "    if day == \"mon\" or day == \"tue\" or day == \"wed\" or day == \"thu\" or day == \"fri\":\n",
        "      if hour >=7 and hour <=10 or hour >=16 and hour <=19 and holiday == \"n\":\n",
        "        return False\n",
        "      elif holiday == \"y\":\n",
        "        return True\n",
        "      else:\n",
        "        return True\n",
        "    else:\n",
        "      return True\n",
        "    # TODO: implement using and/or/not\n",
        "    pass\n",
        "\n",
        "# YOUR CODE HERE\n",
        "# 1) Prompt and validate inputs\n",
        "day=input(\"what day is it?\")\n",
        "hour=int(input(\"what time is it?\"))\n",
        "holiday=input(\"is it a holiday?\")\n",
        "# 2) Call parking_allowed and print the exact message\n",
        "parking=parking_allowed(day,hour,holiday)\n",
        "if (parking):\n",
        "  print(\"parking allowed\")\n",
        "else:\n",
        "  print(\"no parking\")"
      ]
    },
    {
      "cell_type": "markdown",
      "id": "8a8cef39",
      "metadata": {
        "id": "8a8cef39"
      },
      "source": [
        "\n",
        "## 10) Mini‑Project (No Loops): Cinema Entry & Pricing Decision Engine\n",
        "\n",
        "This is a friendly, single‑run decision engine — no loops needed. You’ll determine **entry permission** and a **final ticket price** based on the rules.\n",
        "\n",
        "**Inputs to gather and validate (in this order)**  \n",
        "1. **age** (int, 0–120)  \n",
        "2. **day** (`mon, tue, wed, thu, fri, sat, sun`)  \n",
        "3. **hour** (int 0–23) — cinema is open to **everyone** 10–22 inclusive; **members only** at 9 and 23  \n",
        "4. **holiday** (`y/n`)  \n",
        "5. **member** (`y/n`)  \n",
        "6. **student** (`y/n`)  \n",
        "7. **base_price** (float ≥ 0)  \n",
        "8. **coupon10** (`y/n`)  \n",
        "9. **coupon15** (`y/n`)\n",
        "\n",
        "**Access Policy**  \n",
        "- If holiday → `\"Entry allowed\"` any time.  \n",
        "- Otherwise:  \n",
        "  - 10–22 → `\"Entry allowed\"`  \n",
        "  - 9 or 23 → `\"Entry allowed (members only hours)\"` **if** member is `\"y\"`; otherwise `\"Closed\"`  \n",
        "  - All other hours → `\"Closed\"`  \n",
        "If closed, print the access message and stop.\n",
        "\n",
        "**Discounts (apply at most one in this order)**  \n",
        "1) If both coupons are `\"y\"` → print `\"Invalid: cannot stack\"` and **do not use any coupon** (you may still use age/student/member rule below).  \n",
        "2) Else if `coupon15 == \"y\"` and `base_price >= 80` → 15% off.  \n",
        "3) Else if `coupon10 == \"y\"` and `base_price >= 50` → 10% off.  \n",
        "4) Else if age < 12 or age >= 65 → 20% off.  \n",
        "5) Else if student == \"y\" or member == \"y\" → 10% off.  \n",
        "6) Else → no discount.\n",
        "\n",
        "**Output**  \n",
        "- Print the entry result first. If allowed, print a **pricing summary** (base, discount applied, final) with two decimals using f‑strings.\n",
        "\n",
        "*Gentle hints*  \n",
        "- Create helpful booleans like `is_holiday`, `is_member`, etc.  \n",
        "- Use `f\"{price:.2f}\"` for two decimal places.  \n",
        "- Take your time, and test a few scenarios to see each branch work.\n"
      ]
    },
    {
      "cell_type": "code",
      "execution_count": 29,
      "id": "b51d7e1b",
      "metadata": {
        "id": "b51d7e1b",
        "colab": {
          "base_uri": "https://localhost:8080/"
        },
        "outputId": "38f547fd-7320-47c4-8f30-838a4683ffb6"
      },
      "outputs": [
        {
          "output_type": "stream",
          "name": "stdout",
          "text": [
            "what is your age? (0-120)19\n",
            "what day is it? (mon..sun)mon\n",
            "what time is it? (0-23)11\n",
            "is it a holiday? (y/n)n\n",
            "are you a member? (y/n)n\n",
            "are you a student? (y/n)y\n",
            "what is the base price?30\n",
            "do you have a 10% coupon? (y/n)n\n",
            "do you have a 15% coupon? (y/n)n\n",
            "entry allowed\n",
            "discount applied: 10%\n",
            "base price: $30.00\n",
            "discount applied: $3.00\n",
            "final price: $27.00\n"
          ]
        }
      ],
      "source": [
        "# YOUR CODE HERE\n",
        "# 1) Gather and validate inputs (try/except + raise ValueError for issues)\n",
        "age=int(input(\"what is your age? (0-120)\"))\n",
        "try:\n",
        "  if age < 0 or age > 120:\n",
        "    raise ValueError\n",
        "except ValueError:\n",
        "  print(\"invalid age\")\n",
        "day=input(\"what day is it? (mon..sun)\")\n",
        "try:\n",
        "  if day != \"mon\" and day != \"tue\" and day != \"wed\" and day != \"thu\" and day != \"fri\" and day != \"sat\" and day != \"sun\":\n",
        "    raise ValueError\n",
        "except ValueError:\n",
        "  print(\"invalid day\")\n",
        "hour=int(input(\"what time is it? (0-23)\"))\n",
        "try:\n",
        "  if hour < 0 or hour > 23:\n",
        "    raise ValueError\n",
        "except ValueError:\n",
        "  print(\"invalid hour\")\n",
        "holiday=input(\"is it a holiday? (y/n)\")\n",
        "try:\n",
        "  if holiday != \"y\" and holiday != \"n\":\n",
        "    raise ValueError\n",
        "except ValueError:\n",
        "  print(\"invalid holiday\")\n",
        "member=input(\"are you a member? (y/n)\")\n",
        "try:\n",
        "  if member != \"y\" and member != \"n\":\n",
        "    raise ValueError\n",
        "except ValueError:\n",
        "  print(\"invalid member\")\n",
        "student=input(\"are you a student? (y/n)\")\n",
        "try:\n",
        "  if student != \"y\" and student != \"n\":\n",
        "    raise ValueError\n",
        "except ValueError:\n",
        "  print(\"invalid student\")\n",
        "base_price=float(input(\"what is the base price?\"))\n",
        "try:\n",
        "  if base_price < 0:\n",
        "    raise ValueError\n",
        "except ValueError:\n",
        "  print(\"invalid base price\")\n",
        "coupon10=input(\"do you have a 10% coupon? (y/n)\")\n",
        "try:\n",
        "  if coupon10 != \"y\" and coupon10 != \"n\":\n",
        "    raise ValueError\n",
        "except ValueError:\n",
        "  print(\"invalid coupon10\")\n",
        "coupon15=input(\"do you have a 15% coupon? (y/n)\")\n",
        "try:\n",
        "  if coupon15 != \"y\" and coupon15 != \"n\":\n",
        "    raise ValueError\n",
        "except ValueError:\n",
        "  print(\"invalid coupon15\")\n",
        "discount = 0\n",
        "# 2) Decide entry\n",
        "if holiday == \"y\":\n",
        "  print(\"entry allowed\")\n",
        "elif hour >= 10 and hour <= 22:\n",
        "  print(\"entry allowed\")\n",
        "elif hour == 9 or hour == 23:\n",
        "  if member == \"y\":\n",
        "    print(\"entry allowed\")\n",
        "  else:\n",
        "    print(\"closed\")\n",
        "else:\n",
        "  print(\"closed\")\n",
        "\n",
        "# 3) If allowed, apply the discount rules in the given order (at most one discount category)\n",
        "if coupon10 == \"y\" and coupon15 == \"y\":\n",
        "  print(\"invalid: cannot stack\")\n",
        "elif coupon15 == \"y\" and base_price >= 80:\n",
        "  discount=.15\n",
        "  print(\"discount applied: 15%\")\n",
        "elif coupon10 == \"y\" and base_price >= 50:\n",
        "  discount=.10\n",
        "  print(\"discount applied: 10%\")\n",
        "elif age < 12 or age >= 65:\n",
        "  discount=.20\n",
        "  print(\"discount applied: 20%\")\n",
        "elif student == \"y\" or member == \"y\":\n",
        "  discount=.10\n",
        "  print(\"discount applied: 10%\")\n",
        "else:\n",
        "  print(\"no discount\")\n",
        "# 4) Print a clear summary with two-decimal formatting\n",
        "discount_amount=base_price*discount\n",
        "final_price=base_price-discount_amount\n",
        "print(f\"base price: ${base_price:.2f}\")\n",
        "print(f\"discount applied: ${discount_amount:.2f}\")\n",
        "print(f\"final price: ${final_price:.2f}\")\n",
        "\n",
        "# 1) Gather and validate inputs (single attempt due to no-loop constraint for validation)\n",
        "\n"
      ]
    },
    {
      "cell_type": "markdown",
      "id": "ca529e29",
      "metadata": {
        "id": "ca529e29"
      },
      "source": [
        "\n",
        "---\n",
        "\n",
        "### You’re doing great 💫\n",
        "Remember: learning conditionals is about clear thinking and small steps.  \n",
        "Celebrate each little win, and don’t hesitate to re-run cells as you refine your code.\n"
      ]
    }
  ],
  "metadata": {
    "kernelspec": {
      "display_name": "Python 3",
      "language": "python",
      "name": "python3"
    },
    "language_info": {
      "name": "python",
      "version": "3.x"
    },
    "colab": {
      "provenance": []
    }
  },
  "nbformat": 4,
  "nbformat_minor": 5
}